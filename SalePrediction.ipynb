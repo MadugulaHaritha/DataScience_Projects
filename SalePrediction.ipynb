{
 "cells": [
  {
   "cell_type": "code",
   "execution_count": 2,
   "id": "933e95ae-c2b8-4f5c-89f5-67cb7c383b09",
   "metadata": {},
   "outputs": [],
   "source": [
    "import numpy as np\n",
    "import pandas as pd\n",
    "import matplotlib.pyplot as plt\n",
    "import seaborn as sns\n",
    "from sklearn.preprocessing import LabelEncoder\n",
    "from sklearn.model_selection import train_test_split\n",
    "from sklearn import metrics"
   ]
  },
  {
   "cell_type": "code",
   "execution_count": 4,
   "id": "73513250-df1f-4da6-bb62-1876aca3d76b",
   "metadata": {},
   "outputs": [],
   "source": [
    "data = pd.read_csv(r\"C:\\Users\\iat\\Downloads\\Sale prediction\\Test.csv\")"
   ]
  },
  {
   "cell_type": "code",
   "execution_count": 5,
   "id": "2bd68c9f-fa6c-46c7-a0cc-e6f165311850",
   "metadata": {},
   "outputs": [
    {
     "data": {
      "text/html": [
       "<div>\n",
       "<style scoped>\n",
       "    .dataframe tbody tr th:only-of-type {\n",
       "        vertical-align: middle;\n",
       "    }\n",
       "\n",
       "    .dataframe tbody tr th {\n",
       "        vertical-align: top;\n",
       "    }\n",
       "\n",
       "    .dataframe thead th {\n",
       "        text-align: right;\n",
       "    }\n",
       "</style>\n",
       "<table border=\"1\" class=\"dataframe\">\n",
       "  <thead>\n",
       "    <tr style=\"text-align: right;\">\n",
       "      <th></th>\n",
       "      <th>Item_Identifier</th>\n",
       "      <th>Item_Weight</th>\n",
       "      <th>Item_Fat_Content</th>\n",
       "      <th>Item_Visibility</th>\n",
       "      <th>Item_Type</th>\n",
       "      <th>Item_MRP</th>\n",
       "      <th>Outlet_Identifier</th>\n",
       "      <th>Outlet_Establishment_Year</th>\n",
       "      <th>Outlet_Size</th>\n",
       "      <th>Outlet_Location_Type</th>\n",
       "      <th>Outlet_Type</th>\n",
       "    </tr>\n",
       "  </thead>\n",
       "  <tbody>\n",
       "    <tr>\n",
       "      <th>0</th>\n",
       "      <td>FDW58</td>\n",
       "      <td>20.750</td>\n",
       "      <td>Low Fat</td>\n",
       "      <td>0.007565</td>\n",
       "      <td>Snack Foods</td>\n",
       "      <td>107.8622</td>\n",
       "      <td>OUT049</td>\n",
       "      <td>1999</td>\n",
       "      <td>Medium</td>\n",
       "      <td>Tier 1</td>\n",
       "      <td>Supermarket Type1</td>\n",
       "    </tr>\n",
       "    <tr>\n",
       "      <th>1</th>\n",
       "      <td>FDW14</td>\n",
       "      <td>8.300</td>\n",
       "      <td>reg</td>\n",
       "      <td>0.038428</td>\n",
       "      <td>Dairy</td>\n",
       "      <td>87.3198</td>\n",
       "      <td>OUT017</td>\n",
       "      <td>2007</td>\n",
       "      <td>NaN</td>\n",
       "      <td>Tier 2</td>\n",
       "      <td>Supermarket Type1</td>\n",
       "    </tr>\n",
       "    <tr>\n",
       "      <th>2</th>\n",
       "      <td>NCN55</td>\n",
       "      <td>14.600</td>\n",
       "      <td>Low Fat</td>\n",
       "      <td>0.099575</td>\n",
       "      <td>Others</td>\n",
       "      <td>241.7538</td>\n",
       "      <td>OUT010</td>\n",
       "      <td>1998</td>\n",
       "      <td>NaN</td>\n",
       "      <td>Tier 3</td>\n",
       "      <td>Grocery Store</td>\n",
       "    </tr>\n",
       "    <tr>\n",
       "      <th>3</th>\n",
       "      <td>FDQ58</td>\n",
       "      <td>7.315</td>\n",
       "      <td>Low Fat</td>\n",
       "      <td>0.015388</td>\n",
       "      <td>Snack Foods</td>\n",
       "      <td>155.0340</td>\n",
       "      <td>OUT017</td>\n",
       "      <td>2007</td>\n",
       "      <td>NaN</td>\n",
       "      <td>Tier 2</td>\n",
       "      <td>Supermarket Type1</td>\n",
       "    </tr>\n",
       "    <tr>\n",
       "      <th>4</th>\n",
       "      <td>FDY38</td>\n",
       "      <td>NaN</td>\n",
       "      <td>Regular</td>\n",
       "      <td>0.118599</td>\n",
       "      <td>Dairy</td>\n",
       "      <td>234.2300</td>\n",
       "      <td>OUT027</td>\n",
       "      <td>1985</td>\n",
       "      <td>Medium</td>\n",
       "      <td>Tier 3</td>\n",
       "      <td>Supermarket Type3</td>\n",
       "    </tr>\n",
       "  </tbody>\n",
       "</table>\n",
       "</div>"
      ],
      "text/plain": [
       "  Item_Identifier  Item_Weight Item_Fat_Content  Item_Visibility    Item_Type  \\\n",
       "0           FDW58       20.750          Low Fat         0.007565  Snack Foods   \n",
       "1           FDW14        8.300              reg         0.038428        Dairy   \n",
       "2           NCN55       14.600          Low Fat         0.099575       Others   \n",
       "3           FDQ58        7.315          Low Fat         0.015388  Snack Foods   \n",
       "4           FDY38          NaN          Regular         0.118599        Dairy   \n",
       "\n",
       "   Item_MRP Outlet_Identifier  Outlet_Establishment_Year Outlet_Size  \\\n",
       "0  107.8622            OUT049                       1999      Medium   \n",
       "1   87.3198            OUT017                       2007         NaN   \n",
       "2  241.7538            OUT010                       1998         NaN   \n",
       "3  155.0340            OUT017                       2007         NaN   \n",
       "4  234.2300            OUT027                       1985      Medium   \n",
       "\n",
       "  Outlet_Location_Type        Outlet_Type  \n",
       "0               Tier 1  Supermarket Type1  \n",
       "1               Tier 2  Supermarket Type1  \n",
       "2               Tier 3      Grocery Store  \n",
       "3               Tier 2  Supermarket Type1  \n",
       "4               Tier 3  Supermarket Type3  "
      ]
     },
     "execution_count": 5,
     "metadata": {},
     "output_type": "execute_result"
    }
   ],
   "source": [
    "data.head()"
   ]
  },
  {
   "cell_type": "code",
   "execution_count": 6,
   "id": "5deb8e5a-e28a-4f53-92c3-85b7e18faccb",
   "metadata": {},
   "outputs": [
    {
     "data": {
      "text/html": [
       "<div>\n",
       "<style scoped>\n",
       "    .dataframe tbody tr th:only-of-type {\n",
       "        vertical-align: middle;\n",
       "    }\n",
       "\n",
       "    .dataframe tbody tr th {\n",
       "        vertical-align: top;\n",
       "    }\n",
       "\n",
       "    .dataframe thead th {\n",
       "        text-align: right;\n",
       "    }\n",
       "</style>\n",
       "<table border=\"1\" class=\"dataframe\">\n",
       "  <thead>\n",
       "    <tr style=\"text-align: right;\">\n",
       "      <th></th>\n",
       "      <th>Item_Identifier</th>\n",
       "      <th>Item_Weight</th>\n",
       "      <th>Item_Fat_Content</th>\n",
       "      <th>Item_Visibility</th>\n",
       "      <th>Item_Type</th>\n",
       "      <th>Item_MRP</th>\n",
       "      <th>Outlet_Identifier</th>\n",
       "      <th>Outlet_Establishment_Year</th>\n",
       "      <th>Outlet_Size</th>\n",
       "      <th>Outlet_Location_Type</th>\n",
       "      <th>Outlet_Type</th>\n",
       "    </tr>\n",
       "  </thead>\n",
       "  <tbody>\n",
       "    <tr>\n",
       "      <th>5676</th>\n",
       "      <td>FDB58</td>\n",
       "      <td>10.5</td>\n",
       "      <td>Regular</td>\n",
       "      <td>0.013496</td>\n",
       "      <td>Snack Foods</td>\n",
       "      <td>141.3154</td>\n",
       "      <td>OUT046</td>\n",
       "      <td>1997</td>\n",
       "      <td>Small</td>\n",
       "      <td>Tier 1</td>\n",
       "      <td>Supermarket Type1</td>\n",
       "    </tr>\n",
       "    <tr>\n",
       "      <th>5677</th>\n",
       "      <td>FDD47</td>\n",
       "      <td>7.6</td>\n",
       "      <td>Regular</td>\n",
       "      <td>0.142991</td>\n",
       "      <td>Starchy Foods</td>\n",
       "      <td>169.1448</td>\n",
       "      <td>OUT018</td>\n",
       "      <td>2009</td>\n",
       "      <td>Medium</td>\n",
       "      <td>Tier 3</td>\n",
       "      <td>Supermarket Type2</td>\n",
       "    </tr>\n",
       "    <tr>\n",
       "      <th>5678</th>\n",
       "      <td>NCO17</td>\n",
       "      <td>10.0</td>\n",
       "      <td>Low Fat</td>\n",
       "      <td>0.073529</td>\n",
       "      <td>Health and Hygiene</td>\n",
       "      <td>118.7440</td>\n",
       "      <td>OUT045</td>\n",
       "      <td>2002</td>\n",
       "      <td>NaN</td>\n",
       "      <td>Tier 2</td>\n",
       "      <td>Supermarket Type1</td>\n",
       "    </tr>\n",
       "    <tr>\n",
       "      <th>5679</th>\n",
       "      <td>FDJ26</td>\n",
       "      <td>15.3</td>\n",
       "      <td>Regular</td>\n",
       "      <td>0.000000</td>\n",
       "      <td>Canned</td>\n",
       "      <td>214.6218</td>\n",
       "      <td>OUT017</td>\n",
       "      <td>2007</td>\n",
       "      <td>NaN</td>\n",
       "      <td>Tier 2</td>\n",
       "      <td>Supermarket Type1</td>\n",
       "    </tr>\n",
       "    <tr>\n",
       "      <th>5680</th>\n",
       "      <td>FDU37</td>\n",
       "      <td>9.5</td>\n",
       "      <td>Regular</td>\n",
       "      <td>0.104720</td>\n",
       "      <td>Canned</td>\n",
       "      <td>79.7960</td>\n",
       "      <td>OUT045</td>\n",
       "      <td>2002</td>\n",
       "      <td>NaN</td>\n",
       "      <td>Tier 2</td>\n",
       "      <td>Supermarket Type1</td>\n",
       "    </tr>\n",
       "  </tbody>\n",
       "</table>\n",
       "</div>"
      ],
      "text/plain": [
       "     Item_Identifier  Item_Weight Item_Fat_Content  Item_Visibility  \\\n",
       "5676           FDB58         10.5          Regular         0.013496   \n",
       "5677           FDD47          7.6          Regular         0.142991   \n",
       "5678           NCO17         10.0          Low Fat         0.073529   \n",
       "5679           FDJ26         15.3          Regular         0.000000   \n",
       "5680           FDU37          9.5          Regular         0.104720   \n",
       "\n",
       "               Item_Type  Item_MRP Outlet_Identifier  \\\n",
       "5676         Snack Foods  141.3154            OUT046   \n",
       "5677       Starchy Foods  169.1448            OUT018   \n",
       "5678  Health and Hygiene  118.7440            OUT045   \n",
       "5679              Canned  214.6218            OUT017   \n",
       "5680              Canned   79.7960            OUT045   \n",
       "\n",
       "      Outlet_Establishment_Year Outlet_Size Outlet_Location_Type  \\\n",
       "5676                       1997       Small               Tier 1   \n",
       "5677                       2009      Medium               Tier 3   \n",
       "5678                       2002         NaN               Tier 2   \n",
       "5679                       2007         NaN               Tier 2   \n",
       "5680                       2002         NaN               Tier 2   \n",
       "\n",
       "            Outlet_Type  \n",
       "5676  Supermarket Type1  \n",
       "5677  Supermarket Type2  \n",
       "5678  Supermarket Type1  \n",
       "5679  Supermarket Type1  \n",
       "5680  Supermarket Type1  "
      ]
     },
     "execution_count": 6,
     "metadata": {},
     "output_type": "execute_result"
    }
   ],
   "source": [
    "data.tail()"
   ]
  },
  {
   "cell_type": "code",
   "execution_count": 7,
   "id": "82cfef35-4945-4631-afb5-df60377c32d1",
   "metadata": {},
   "outputs": [
    {
     "name": "stdout",
     "output_type": "stream",
     "text": [
      "<class 'pandas.core.frame.DataFrame'>\n",
      "RangeIndex: 5681 entries, 0 to 5680\n",
      "Data columns (total 11 columns):\n",
      " #   Column                     Non-Null Count  Dtype  \n",
      "---  ------                     --------------  -----  \n",
      " 0   Item_Identifier            5681 non-null   object \n",
      " 1   Item_Weight                4705 non-null   float64\n",
      " 2   Item_Fat_Content           5681 non-null   object \n",
      " 3   Item_Visibility            5681 non-null   float64\n",
      " 4   Item_Type                  5681 non-null   object \n",
      " 5   Item_MRP                   5681 non-null   float64\n",
      " 6   Outlet_Identifier          5681 non-null   object \n",
      " 7   Outlet_Establishment_Year  5681 non-null   int64  \n",
      " 8   Outlet_Size                4075 non-null   object \n",
      " 9   Outlet_Location_Type       5681 non-null   object \n",
      " 10  Outlet_Type                5681 non-null   object \n",
      "dtypes: float64(3), int64(1), object(7)\n",
      "memory usage: 488.3+ KB\n"
     ]
    }
   ],
   "source": [
    "data.info()"
   ]
  },
  {
   "cell_type": "code",
   "execution_count": 8,
   "id": "c713ecb8-5820-4756-bfd4-19fdcdce765d",
   "metadata": {},
   "outputs": [
    {
     "data": {
      "text/html": [
       "<div>\n",
       "<style scoped>\n",
       "    .dataframe tbody tr th:only-of-type {\n",
       "        vertical-align: middle;\n",
       "    }\n",
       "\n",
       "    .dataframe tbody tr th {\n",
       "        vertical-align: top;\n",
       "    }\n",
       "\n",
       "    .dataframe thead th {\n",
       "        text-align: right;\n",
       "    }\n",
       "</style>\n",
       "<table border=\"1\" class=\"dataframe\">\n",
       "  <thead>\n",
       "    <tr style=\"text-align: right;\">\n",
       "      <th></th>\n",
       "      <th>Item_Weight</th>\n",
       "      <th>Item_Visibility</th>\n",
       "      <th>Item_MRP</th>\n",
       "      <th>Outlet_Establishment_Year</th>\n",
       "    </tr>\n",
       "  </thead>\n",
       "  <tbody>\n",
       "    <tr>\n",
       "      <th>count</th>\n",
       "      <td>4705.000000</td>\n",
       "      <td>5681.000000</td>\n",
       "      <td>5681.000000</td>\n",
       "      <td>5681.000000</td>\n",
       "    </tr>\n",
       "    <tr>\n",
       "      <th>mean</th>\n",
       "      <td>12.695633</td>\n",
       "      <td>0.065684</td>\n",
       "      <td>141.023273</td>\n",
       "      <td>1997.828903</td>\n",
       "    </tr>\n",
       "    <tr>\n",
       "      <th>std</th>\n",
       "      <td>4.664849</td>\n",
       "      <td>0.051252</td>\n",
       "      <td>61.809091</td>\n",
       "      <td>8.372256</td>\n",
       "    </tr>\n",
       "    <tr>\n",
       "      <th>min</th>\n",
       "      <td>4.555000</td>\n",
       "      <td>0.000000</td>\n",
       "      <td>31.990000</td>\n",
       "      <td>1985.000000</td>\n",
       "    </tr>\n",
       "    <tr>\n",
       "      <th>25%</th>\n",
       "      <td>8.645000</td>\n",
       "      <td>0.027047</td>\n",
       "      <td>94.412000</td>\n",
       "      <td>1987.000000</td>\n",
       "    </tr>\n",
       "    <tr>\n",
       "      <th>50%</th>\n",
       "      <td>12.500000</td>\n",
       "      <td>0.054154</td>\n",
       "      <td>141.415400</td>\n",
       "      <td>1999.000000</td>\n",
       "    </tr>\n",
       "    <tr>\n",
       "      <th>75%</th>\n",
       "      <td>16.700000</td>\n",
       "      <td>0.093463</td>\n",
       "      <td>186.026600</td>\n",
       "      <td>2004.000000</td>\n",
       "    </tr>\n",
       "    <tr>\n",
       "      <th>max</th>\n",
       "      <td>21.350000</td>\n",
       "      <td>0.323637</td>\n",
       "      <td>266.588400</td>\n",
       "      <td>2009.000000</td>\n",
       "    </tr>\n",
       "  </tbody>\n",
       "</table>\n",
       "</div>"
      ],
      "text/plain": [
       "       Item_Weight  Item_Visibility     Item_MRP  Outlet_Establishment_Year\n",
       "count  4705.000000      5681.000000  5681.000000                5681.000000\n",
       "mean     12.695633         0.065684   141.023273                1997.828903\n",
       "std       4.664849         0.051252    61.809091                   8.372256\n",
       "min       4.555000         0.000000    31.990000                1985.000000\n",
       "25%       8.645000         0.027047    94.412000                1987.000000\n",
       "50%      12.500000         0.054154   141.415400                1999.000000\n",
       "75%      16.700000         0.093463   186.026600                2004.000000\n",
       "max      21.350000         0.323637   266.588400                2009.000000"
      ]
     },
     "execution_count": 8,
     "metadata": {},
     "output_type": "execute_result"
    }
   ],
   "source": [
    "data.describe()"
   ]
  },
  {
   "cell_type": "code",
   "execution_count": 9,
   "id": "ae4d72a4-7749-4b80-9b2a-1885f4786f07",
   "metadata": {},
   "outputs": [
    {
     "data": {
      "text/plain": [
       "Item_Identifier                 0\n",
       "Item_Weight                   976\n",
       "Item_Fat_Content                0\n",
       "Item_Visibility                 0\n",
       "Item_Type                       0\n",
       "Item_MRP                        0\n",
       "Outlet_Identifier               0\n",
       "Outlet_Establishment_Year       0\n",
       "Outlet_Size                  1606\n",
       "Outlet_Location_Type            0\n",
       "Outlet_Type                     0\n",
       "dtype: int64"
      ]
     },
     "execution_count": 9,
     "metadata": {},
     "output_type": "execute_result"
    }
   ],
   "source": [
    "data.isna().sum()"
   ]
  },
  {
   "cell_type": "code",
   "execution_count": 10,
   "id": "66cce074-afa2-4020-829e-a880b4182f0d",
   "metadata": {},
   "outputs": [
    {
     "data": {
      "text/plain": [
       "12.695633368756642"
      ]
     },
     "execution_count": 10,
     "metadata": {},
     "output_type": "execute_result"
    }
   ],
   "source": [
    "data['Item_Weight'].mean()"
   ]
  },
  {
   "cell_type": "code",
   "execution_count": 11,
   "id": "08f147e2-7db9-4f73-855c-eefc89015e9d",
   "metadata": {},
   "outputs": [],
   "source": [
    "data['Item_Weight'].fillna(data['Item_Weight'].mean(), inplace=True)"
   ]
  },
  {
   "cell_type": "code",
   "execution_count": 20,
   "id": "93e76207-1008-46c1-8735-0543c8a6afc4",
   "metadata": {},
   "outputs": [
    {
     "data": {
      "text/plain": [
       "0    Medium\n",
       "Name: Outlet_Size, dtype: object"
      ]
     },
     "execution_count": 20,
     "metadata": {},
     "output_type": "execute_result"
    }
   ],
   "source": [
    "data['Outlet_Size'].mode()"
   ]
  },
  {
   "cell_type": "code",
   "execution_count": 22,
   "id": "877117b1-afca-4117-a769-15eefd11c141",
   "metadata": {},
   "outputs": [],
   "source": [
    "Outlet_size_mode = data.pivot_table(values='Outlet_Size', columns='Outlet_Type', aggfunc=(lambda x: x.mode()[0]))"
   ]
  },
  {
   "cell_type": "code",
   "execution_count": 27,
   "id": "77a009fb-3af8-4383-9b8e-fd7c1c7c6649",
   "metadata": {},
   "outputs": [],
   "source": [
    "missing_values = data['Outlet_Size'].isnull() \n",
    "data.loc[missing_values, 'Outlet_Size'] = data.loc[missing_values,'Outlet_Type'].apply(lambda x: Outlet_size_mode[x])"
   ]
  },
  {
   "cell_type": "code",
   "execution_count": 28,
   "id": "ec60366c-42f1-48e5-942f-77036917b72f",
   "metadata": {},
   "outputs": [
    {
     "data": {
      "text/plain": [
       "Item_Identifier              0\n",
       "Item_Weight                  0\n",
       "Item_Fat_Content             0\n",
       "Item_Visibility              0\n",
       "Item_Type                    0\n",
       "Item_MRP                     0\n",
       "Outlet_Identifier            0\n",
       "Outlet_Establishment_Year    0\n",
       "Outlet_Size                  0\n",
       "Outlet_Location_Type         0\n",
       "Outlet_Type                  0\n",
       "dtype: int64"
      ]
     },
     "execution_count": 28,
     "metadata": {},
     "output_type": "execute_result"
    }
   ],
   "source": [
    "data.isna().sum()"
   ]
  },
  {
   "cell_type": "code",
   "execution_count": 30,
   "id": "d96dae75-c4bb-4bb5-8648-2d640d7ca43b",
   "metadata": {},
   "outputs": [
    {
     "data": {
      "image/png": "[encoded data removed]",
      "text/plain": [
       "<Figure size 600x600 with 1 Axes>"
      ]
     },
     "metadata": {},
     "output_type": "display_data"
    }
   ],
   "source": [
    " plt.figure(figsize=(6,6))\n",
    "sns.histplot(data['Item_Visibility'])\n",
    "plt.show()"
   ]
  },
  {
   "cell_type": "code",
   "execution_count": 32,
   "id": "e48a6125-8944-4740-b628-b0ec9594a8b4",
   "metadata": {},
   "outputs": [
    {
     "data": {
      "image/png": "[encoded data removed]",
      "text/plain": [
       "<Figure size 600x600 with 1 Axes>"
      ]
     },
     "metadata": {},
     "output_type": "display_data"
    }
   ],
   "source": [
    "plt.figure(figsize=(6,6))\n",
    "sns.countplot(x='Item_Fat_Content', data=data)\n",
    "plt.show()"
   ]
  },
  {
   "cell_type": "code",
   "execution_count": 33,
   "id": "88ea47df-c0a4-4fff-8480-ea85b15d8c9c",
   "metadata": {},
   "outputs": [],
   "source": [
    "encoder = LabelEncoder()"
   ]
  },
  {
   "cell_type": "code",
   "execution_count": 34,
   "id": "304be531-4afb-48a3-9afe-6857af4d8097",
   "metadata": {},
   "outputs": [],
   "source": [
    "data['Item_Identifier'] = encoder.fit_transform(data['Item_Identifier'])\n",
    "\n",
    "data['Item_Fat_Content'] = encoder.fit_transform(data['Item_Fat_Content'])\n",
    "\n",
    "data['Item_Type'] = encoder.fit_transform(data['Item_Type'])\n",
    "\n",
    "data['Outlet_Identifier'] = encoder.fit_transform(data['Outlet_Identifier'])\n",
    "\n",
    "data['Outlet_Size'] = encoder.fit_transform(data['Outlet_Size'])\n",
    "\n",
    "data['Outlet_Location_Type'] = encoder.fit_transform(data['Outlet_Location_Type'])\n",
    "\n",
    "data['Outlet_Type'] = encoder.fit_transform(data['Outlet_Type'])"
   ]
  },
  {
   "cell_type": "code",
   "execution_count": 37,
   "id": "3ba6591c-a6d0-469a-85d7-280e81575b1a",
   "metadata": {},
   "outputs": [],
   "source": [
    "X = data.drop(columns='Outlet_Location_Type', axis=1)\n",
    "Y = data['Outlet_Location_Type']"
   ]
  },
  {
   "cell_type": "code",
   "execution_count": 38,
   "id": "b233ee3e-8705-4e3d-ad3b-d3b018fdd08a",
   "metadata": {},
   "outputs": [],
   "source": [
    "X_train, X_test, Y_train, Y_test = train_test_split(X, Y, test_size=0.2, random_state=2)"
   ]
  },
  {
   "cell_type": "code",
   "execution_count": 46,
   "id": "be207dc2-aae6-4351-87db-b2ca23ce8a5e",
   "metadata": {},
   "outputs": [
    {
     "name": "stdout",
     "output_type": "stream",
     "text": [
      "Collecting xgboost\n",
      "  Downloading xgboost-2.1.1-py3-none-win_amd64.whl.metadata (2.1 kB)\n",
      "Requirement already satisfied: numpy in c:\\users\\iat\\anaconda3\\lib\\site-packages (from xgboost) (1.24.4)\n",
      "Requirement already satisfied: scipy in c:\\users\\iat\\anaconda3\\lib\\site-packages (from xgboost) (1.10.1)\n",
      "Downloading xgboost-2.1.1-py3-none-win_amd64.whl (124.9 MB)\n",
      "   ---------------------------------------- 0.0/124.9 MB ? eta -:--:--\n",
      "   ---------------------------------------- 0.0/124.9 MB ? eta -:--:--\n",
      "   ---------------------------------------- 0.0/124.9 MB 435.7 kB/s eta 0:04:47\n",
      "   ---------------------------------------- 0.1/124.9 MB 1.0 MB/s eta 0:02:01\n",
      "   ---------------------------------------- 0.6/124.9 MB 4.0 MB/s eta 0:00:32\n",
      "   ---------------------------------------- 1.5/124.9 MB 7.5 MB/s eta 0:00:17\n",
      "    --------------------------------------- 2.7/124.9 MB 10.8 MB/s eta 0:00:12\n",
      "   - -------------------------------------- 3.5/124.9 MB 11.9 MB/s eta 0:00:11\n",
      "   - -------------------------------------- 4.4/124.9 MB 12.7 MB/s eta 0:00:10\n",
      "   - -------------------------------------- 5.2/124.9 MB 13.4 MB/s eta 0:00:09\n",
      "   - -------------------------------------- 6.1/124.9 MB 13.9 MB/s eta 0:00:09\n",
      "   -- ------------------------------------- 7.0/124.9 MB 14.4 MB/s eta 0:00:09\n",
      "   -- ------------------------------------- 7.8/124.9 MB 14.7 MB/s eta 0:00:08\n",
      "   -- ------------------------------------- 8.6/124.9 MB 14.8 MB/s eta 0:00:08\n",
      "   --- ------------------------------------ 9.5/124.9 MB 15.1 MB/s eta 0:00:08\n",
      "   --- ------------------------------------ 10.3/124.9 MB 18.2 MB/s eta 0:00:07\n",
      "   --- ------------------------------------ 11.2/124.9 MB 19.2 MB/s eta 0:00:06\n",
      "   --- ------------------------------------ 12.1/124.9 MB 18.7 MB/s eta 0:00:07\n",
      "   ---- ----------------------------------- 12.9/124.9 MB 18.2 MB/s eta 0:00:07\n",
      "   ---- ----------------------------------- 13.8/124.9 MB 18.2 MB/s eta 0:00:07\n",
      "   ---- ----------------------------------- 14.6/124.9 MB 18.2 MB/s eta 0:00:07\n",
      "   ---- ----------------------------------- 15.5/124.9 MB 18.2 MB/s eta 0:00:07\n",
      "   ----- ---------------------------------- 16.4/124.9 MB 18.2 MB/s eta 0:00:06\n",
      "   ----- ---------------------------------- 17.2/124.9 MB 18.2 MB/s eta 0:00:06\n",
      "   ----- ---------------------------------- 18.1/124.9 MB 18.2 MB/s eta 0:00:06\n",
      "   ------ --------------------------------- 18.9/124.9 MB 18.2 MB/s eta 0:00:06\n",
      "   ------ --------------------------------- 19.8/124.9 MB 18.2 MB/s eta 0:00:06\n",
      "   ------ --------------------------------- 20.6/124.9 MB 18.2 MB/s eta 0:00:06\n",
      "   ------ --------------------------------- 21.5/124.9 MB 18.2 MB/s eta 0:00:06\n",
      "   ------- -------------------------------- 22.3/124.9 MB 18.7 MB/s eta 0:00:06\n",
      "   ------- -------------------------------- 23.2/124.9 MB 18.2 MB/s eta 0:00:06\n",
      "   ------- -------------------------------- 24.1/124.9 MB 18.2 MB/s eta 0:00:06\n",
      "   ------- -------------------------------- 24.9/124.9 MB 18.2 MB/s eta 0:00:06\n",
      "   -------- ------------------------------- 25.8/124.9 MB 18.2 MB/s eta 0:00:06\n",
      "   -------- ------------------------------- 26.6/124.9 MB 18.7 MB/s eta 0:00:06\n",
      "   -------- ------------------------------- 27.4/124.9 MB 18.2 MB/s eta 0:00:06\n",
      "   -------- ------------------------------- 27.7/124.9 MB 18.2 MB/s eta 0:00:06\n",
      "   -------- ------------------------------- 27.7/124.9 MB 18.2 MB/s eta 0:00:06\n",
      "   --------- ------------------------------ 28.3/124.9 MB 15.6 MB/s eta 0:00:07\n",
      "   --------- ------------------------------ 30.7/124.9 MB 17.7 MB/s eta 0:00:06\n",
      "   ---------- ----------------------------- 31.5/124.9 MB 17.7 MB/s eta 0:00:06\n",
      "   ---------- ----------------------------- 32.4/124.9 MB 17.7 MB/s eta 0:00:06\n",
      "   ---------- ----------------------------- 32.5/124.9 MB 17.7 MB/s eta 0:00:06\n",
      "   ---------- ----------------------------- 32.5/124.9 MB 17.7 MB/s eta 0:00:06\n",
      "   ---------- ----------------------------- 32.5/124.9 MB 17.7 MB/s eta 0:00:06\n",
      "   ---------- ----------------------------- 32.5/124.9 MB 17.7 MB/s eta 0:00:06\n",
      "   ---------- ----------------------------- 32.5/124.9 MB 17.7 MB/s eta 0:00:06\n",
      "   ---------- ----------------------------- 32.5/124.9 MB 17.7 MB/s eta 0:00:06\n",
      "   ---------- ----------------------------- 32.5/124.9 MB 17.7 MB/s eta 0:00:06\n",
      "   ---------- ----------------------------- 32.5/124.9 MB 17.7 MB/s eta 0:00:06\n",
      "   ---------- ----------------------------- 32.5/124.9 MB 17.7 MB/s eta 0:00:06\n",
      "   ---------- ----------------------------- 32.5/124.9 MB 17.7 MB/s eta 0:00:06\n",
      "   ---------- ----------------------------- 32.5/124.9 MB 17.7 MB/s eta 0:00:06\n",
      "   ---------- ----------------------------- 32.5/124.9 MB 17.7 MB/s eta 0:00:06\n",
      "   ---------- ----------------------------- 32.5/124.9 MB 17.7 MB/s eta 0:00:06\n",
      "   ---------- ----------------------------- 32.5/124.9 MB 17.7 MB/s eta 0:00:06\n",
      "   ---------- ----------------------------- 32.6/124.9 MB 8.1 MB/s eta 0:00:12\n",
      "   ---------- ----------------------------- 32.7/124.9 MB 7.9 MB/s eta 0:00:12\n",
      "   ---------- ----------------------------- 32.9/124.9 MB 7.7 MB/s eta 0:00:12\n",
      "   ---------- ----------------------------- 33.3/124.9 MB 7.5 MB/s eta 0:00:13\n",
      "   ---------- ----------------------------- 33.8/124.9 MB 7.4 MB/s eta 0:00:13\n",
      "   ----------- ---------------------------- 34.7/124.9 MB 7.4 MB/s eta 0:00:13\n",
      "   ----------- ---------------------------- 35.7/124.9 MB 7.5 MB/s eta 0:00:12\n",
      "   ----------- ---------------------------- 36.6/124.9 MB 7.5 MB/s eta 0:00:12\n",
      "   ------------ --------------------------- 37.5/124.9 MB 7.5 MB/s eta 0:00:12\n",
      "   ------------ --------------------------- 38.3/124.9 MB 8.2 MB/s eta 0:00:11\n",
      "   ------------ --------------------------- 39.2/124.9 MB 7.9 MB/s eta 0:00:11\n",
      "   ------------ --------------------------- 40.1/124.9 MB 7.7 MB/s eta 0:00:12\n",
      "   ------------- -------------------------- 40.9/124.9 MB 7.6 MB/s eta 0:00:12\n",
      "   ------------- -------------------------- 41.8/124.9 MB 7.6 MB/s eta 0:00:11\n",
      "   ------------- -------------------------- 42.7/124.9 MB 7.6 MB/s eta 0:00:11\n",
      "   ------------- -------------------------- 43.4/124.9 MB 18.2 MB/s eta 0:00:05\n",
      "   -------------- ------------------------- 44.3/124.9 MB 19.3 MB/s eta 0:00:05\n",
      "   -------------- ------------------------- 45.2/124.9 MB 18.7 MB/s eta 0:00:05\n",
      "   -------------- ------------------------- 45.9/124.9 MB 18.2 MB/s eta 0:00:05\n",
      "   --------------- ------------------------ 46.9/124.9 MB 18.7 MB/s eta 0:00:05\n",
      "   --------------- ------------------------ 47.7/124.9 MB 18.7 MB/s eta 0:00:05\n",
      "   --------------- ------------------------ 48.6/124.9 MB 18.7 MB/s eta 0:00:05\n",
      "   --------------- ------------------------ 49.3/124.9 MB 18.7 MB/s eta 0:00:05\n",
      "   --------------- ------------------------ 49.3/124.9 MB 18.7 MB/s eta 0:00:05\n",
      "   --------------- ------------------------ 49.3/124.9 MB 18.7 MB/s eta 0:00:05\n",
      "   --------------- ------------------------ 49.3/124.9 MB 18.7 MB/s eta 0:00:05\n",
      "   --------------- ------------------------ 49.3/124.9 MB 18.7 MB/s eta 0:00:05\n",
      "   --------------- ------------------------ 49.3/124.9 MB 18.7 MB/s eta 0:00:05\n",
      "   --------------- ------------------------ 49.3/124.9 MB 18.7 MB/s eta 0:00:05\n",
      "   --------------- ------------------------ 49.3/124.9 MB 18.7 MB/s eta 0:00:05\n",
      "   --------------- ------------------------ 49.3/124.9 MB 18.7 MB/s eta 0:00:05\n",
      "   --------------- ------------------------ 49.3/124.9 MB 18.7 MB/s eta 0:00:05\n",
      "   --------------- ------------------------ 49.3/124.9 MB 18.7 MB/s eta 0:00:05\n",
      "   --------------- ------------------------ 49.3/124.9 MB 18.7 MB/s eta 0:00:05\n",
      "   --------------- ------------------------ 49.3/124.9 MB 18.7 MB/s eta 0:00:05\n",
      "   --------------- ------------------------ 49.3/124.9 MB 8.7 MB/s eta 0:00:09\n",
      "   ---------------- ----------------------- 50.4/124.9 MB 8.7 MB/s eta 0:00:09\n",
      "   ---------------- ----------------------- 51.5/124.9 MB 8.7 MB/s eta 0:00:09\n",
      "   ---------------- ----------------------- 52.3/124.9 MB 8.7 MB/s eta 0:00:09\n",
      "   ----------------- ---------------------- 53.2/124.9 MB 8.7 MB/s eta 0:00:09\n",
      "   ----------------- ---------------------- 54.0/124.9 MB 8.7 MB/s eta 0:00:09\n",
      "   ----------------- ---------------------- 54.9/124.9 MB 8.7 MB/s eta 0:00:09\n",
      "   ----------------- ---------------------- 55.7/124.9 MB 8.7 MB/s eta 0:00:08\n",
      "   ------------------ --------------------- 56.5/124.9 MB 8.8 MB/s eta 0:00:08\n",
      "   ------------------ --------------------- 57.4/124.9 MB 8.7 MB/s eta 0:00:08\n",
      "   ------------------ --------------------- 58.3/124.9 MB 8.7 MB/s eta 0:00:08\n",
      "   ------------------ --------------------- 59.1/124.9 MB 8.7 MB/s eta 0:00:08\n",
      "   ------------------- -------------------- 59.9/124.9 MB 18.7 MB/s eta 0:00:04\n",
      "   ------------------- -------------------- 60.8/124.9 MB 18.7 MB/s eta 0:00:04\n",
      "   ------------------- -------------------- 61.7/124.9 MB 18.2 MB/s eta 0:00:04\n",
      "   -------------------- ------------------- 62.5/124.9 MB 18.2 MB/s eta 0:00:04\n",
      "   -------------------- ------------------- 63.3/124.9 MB 18.2 MB/s eta 0:00:04\n",
      "   -------------------- ------------------- 64.2/124.9 MB 18.2 MB/s eta 0:00:04\n",
      "   -------------------- ------------------- 65.0/124.9 MB 18.2 MB/s eta 0:00:04\n",
      "   --------------------- ------------------ 65.9/124.9 MB 18.2 MB/s eta 0:00:04\n",
      "   --------------------- ------------------ 66.8/124.9 MB 18.2 MB/s eta 0:00:04\n",
      "   --------------------- ------------------ 67.6/124.9 MB 18.2 MB/s eta 0:00:04\n",
      "   --------------------- ------------------ 68.5/124.9 MB 18.2 MB/s eta 0:00:04\n",
      "   ---------------------- ----------------- 69.3/124.9 MB 18.2 MB/s eta 0:00:04\n",
      "   ---------------------- ----------------- 70.2/124.9 MB 18.2 MB/s eta 0:00:04\n",
      "   ---------------------- ----------------- 71.0/124.9 MB 18.2 MB/s eta 0:00:03\n",
      "   ----------------------- ---------------- 71.8/124.9 MB 18.7 MB/s eta 0:00:03\n",
      "   ----------------------- ---------------- 72.7/124.9 MB 18.2 MB/s eta 0:00:03\n",
      "   ----------------------- ---------------- 73.6/124.9 MB 18.2 MB/s eta 0:00:03\n",
      "   ----------------------- ---------------- 74.4/124.9 MB 18.2 MB/s eta 0:00:03\n",
      "   ------------------------ --------------- 75.3/124.9 MB 18.2 MB/s eta 0:00:03\n",
      "   ------------------------ --------------- 76.2/124.9 MB 18.2 MB/s eta 0:00:03\n",
      "   ------------------------ --------------- 77.0/124.9 MB 18.2 MB/s eta 0:00:03\n",
      "   ------------------------ --------------- 77.9/124.9 MB 18.2 MB/s eta 0:00:03\n",
      "   ------------------------- -------------- 78.7/124.9 MB 18.7 MB/s eta 0:00:03\n",
      "   ------------------------- -------------- 79.6/124.9 MB 18.2 MB/s eta 0:00:03\n",
      "   ------------------------- -------------- 80.5/124.9 MB 18.2 MB/s eta 0:00:03\n",
      "   -------------------------- ------------- 81.3/124.9 MB 18.2 MB/s eta 0:00:03\n",
      "   -------------------------- ------------- 82.2/124.9 MB 18.2 MB/s eta 0:00:03\n",
      "   -------------------------- ------------- 83.0/124.9 MB 18.2 MB/s eta 0:00:03\n",
      "   -------------------------- ------------- 83.9/124.9 MB 18.7 MB/s eta 0:00:03\n",
      "   --------------------------- ------------ 84.7/124.9 MB 18.7 MB/s eta 0:00:03\n",
      "   --------------------------- ------------ 85.6/124.9 MB 18.7 MB/s eta 0:00:03\n",
      "   --------------------------- ------------ 86.4/124.9 MB 18.7 MB/s eta 0:00:03\n",
      "   --------------------------- ------------ 87.3/124.9 MB 18.7 MB/s eta 0:00:03\n",
      "   ---------------------------- ----------- 88.1/124.9 MB 18.7 MB/s eta 0:00:02\n",
      "   ---------------------------- ----------- 89.0/124.9 MB 18.7 MB/s eta 0:00:02\n",
      "   ---------------------------- ----------- 89.8/124.9 MB 18.7 MB/s eta 0:00:02\n",
      "   ----------------------------- ---------- 90.7/124.9 MB 18.7 MB/s eta 0:00:02\n",
      "   ----------------------------- ---------- 91.5/124.9 MB 18.7 MB/s eta 0:00:02\n",
      "   ----------------------------- ---------- 92.4/124.9 MB 18.7 MB/s eta 0:00:02\n",
      "   ----------------------------- ---------- 93.2/124.9 MB 18.7 MB/s eta 0:00:02\n",
      "   ------------------------------ --------- 94.1/124.9 MB 18.2 MB/s eta 0:00:02\n",
      "   ------------------------------ --------- 95.0/124.9 MB 18.7 MB/s eta 0:00:02\n",
      "   ------------------------------ --------- 95.8/124.9 MB 18.2 MB/s eta 0:00:02\n",
      "   ------------------------------ --------- 96.5/124.9 MB 18.2 MB/s eta 0:00:02\n",
      "   ------------------------------- -------- 97.3/124.9 MB 18.2 MB/s eta 0:00:02\n",
      "   ------------------------------- -------- 98.0/124.9 MB 17.7 MB/s eta 0:00:02\n",
      "   ------------------------------- -------- 98.9/124.9 MB 17.7 MB/s eta 0:00:02\n",
      "   ------------------------------- -------- 99.6/124.9 MB 17.7 MB/s eta 0:00:02\n",
      "   ------------------------------- ------- 100.4/124.9 MB 17.7 MB/s eta 0:00:02\n",
      "   ------------------------------- ------- 101.1/124.9 MB 17.2 MB/s eta 0:00:02\n",
      "   ------------------------------- ------- 101.8/124.9 MB 17.2 MB/s eta 0:00:02\n",
      "   -------------------------------- ------ 102.6/124.9 MB 16.8 MB/s eta 0:00:02\n",
      "   -------------------------------- ------ 103.3/124.9 MB 16.8 MB/s eta 0:00:02\n",
      "   -------------------------------- ------ 104.1/124.9 MB 16.4 MB/s eta 0:00:02\n",
      "   -------------------------------- ------ 104.8/124.9 MB 16.4 MB/s eta 0:00:02\n",
      "   -------------------------------- ------ 105.6/124.9 MB 16.4 MB/s eta 0:00:02\n",
      "   --------------------------------- ----- 106.4/124.9 MB 16.4 MB/s eta 0:00:02\n",
      "   --------------------------------- ----- 107.3/124.9 MB 16.4 MB/s eta 0:00:02\n",
      "   --------------------------------- ----- 108.1/124.9 MB 16.4 MB/s eta 0:00:02\n",
      "   ---------------------------------- ---- 108.9/124.9 MB 16.4 MB/s eta 0:00:01\n",
      "   ---------------------------------- ---- 109.6/124.9 MB 16.4 MB/s eta 0:00:01\n",
      "   ---------------------------------- ---- 110.3/124.9 MB 16.4 MB/s eta 0:00:01\n",
      "   ---------------------------------- ---- 111.1/124.9 MB 16.4 MB/s eta 0:00:01\n",
      "   ---------------------------------- ---- 111.9/124.9 MB 16.4 MB/s eta 0:00:01\n",
      "   ----------------------------------- --- 112.6/124.9 MB 16.4 MB/s eta 0:00:01\n",
      "   ----------------------------------- --- 113.2/124.9 MB 16.4 MB/s eta 0:00:01\n",
      "   ----------------------------------- --- 114.0/124.9 MB 16.4 MB/s eta 0:00:01\n",
      "   ----------------------------------- --- 114.9/124.9 MB 16.8 MB/s eta 0:00:01\n",
      "   ------------------------------------ -- 115.7/124.9 MB 16.8 MB/s eta 0:00:01\n",
      "   ------------------------------------ -- 116.5/124.9 MB 16.8 MB/s eta 0:00:01\n",
      "   ------------------------------------ -- 117.3/124.9 MB 16.4 MB/s eta 0:00:01\n",
      "   ------------------------------------ -- 118.1/124.9 MB 16.4 MB/s eta 0:00:01\n",
      "   ------------------------------------- - 118.9/124.9 MB 16.4 MB/s eta 0:00:01\n",
      "   ------------------------------------- - 119.7/124.9 MB 16.4 MB/s eta 0:00:01\n",
      "   ------------------------------------- - 120.4/124.9 MB 16.4 MB/s eta 0:00:01\n",
      "   ------------------------------------- - 121.2/124.9 MB 16.4 MB/s eta 0:00:01\n",
      "   --------------------------------------  121.9/124.9 MB 16.8 MB/s eta 0:00:01\n",
      "   --------------------------------------  122.7/124.9 MB 16.8 MB/s eta 0:00:01\n",
      "   --------------------------------------  123.5/124.9 MB 16.8 MB/s eta 0:00:01\n",
      "   --------------------------------------  124.3/124.9 MB 16.8 MB/s eta 0:00:01\n",
      "   --------------------------------------  124.9/124.9 MB 16.8 MB/s eta 0:00:01\n",
      "   --------------------------------------  124.9/124.9 MB 16.8 MB/s eta 0:00:01\n",
      "   --------------------------------------  124.9/124.9 MB 16.8 MB/s eta 0:00:01\n",
      "   --------------------------------------  124.9/124.9 MB 16.8 MB/s eta 0:00:01\n",
      "   --------------------------------------  124.9/124.9 MB 16.8 MB/s eta 0:00:01\n",
      "   --------------------------------------  124.9/124.9 MB 16.8 MB/s eta 0:00:01\n",
      "   --------------------------------------  124.9/124.9 MB 16.8 MB/s eta 0:00:01\n",
      "   --------------------------------------  124.9/124.9 MB 16.8 MB/s eta 0:00:01\n",
      "   --------------------------------------  124.9/124.9 MB 16.8 MB/s eta 0:00:01\n",
      "   --------------------------------------  124.9/124.9 MB 16.8 MB/s eta 0:00:01\n",
      "   --------------------------------------  124.9/124.9 MB 16.8 MB/s eta 0:00:01\n",
      "   --------------------------------------  124.9/124.9 MB 16.8 MB/s eta 0:00:01\n",
      "   ---------------------------------------- 124.9/124.9 MB 8.7 MB/s eta 0:00:00\n",
      "Installing collected packages: xgboost\n",
      "Successfully installed xgboost-2.1.1\n"
     ]
    }
   ],
   "source": [
    "!pip install xgboost"
   ]
  },
  {
   "cell_type": "code",
   "execution_count": 47,
   "id": "4bcd51d6-b741-4394-8663-b7ae36cc4bd7",
   "metadata": {},
   "outputs": [],
   "source": [
    "from xgboost import XGBRegressor\n",
    "regressor = XGBRegressor()"
   ]
  },
  {
   "cell_type": "code",
   "execution_count": 48,
   "id": "6a7898fd-fe1a-454b-a19f-1d2dbeaee772",
   "metadata": {},
   "outputs": [
    {
     "data": {
      "text/html": [
       "<style>#sk-container-id-1 {color: black;background-color: white;}#sk-container-id-1 pre{padding: 0;}#sk-container-id-1 div.sk-toggleable {background-color: white;}#sk-container-id-1 label.sk-toggleable__label {cursor: pointer;display: block;width: 100%;margin-bottom: 0;padding: 0.3em;box-sizing: border-box;text-align: center;}#sk-container-id-1 label.sk-toggleable__label-arrow:before {content: \"▸\";float: left;margin-right: 0.25em;color: #696969;}#sk-container-id-1 label.sk-toggleable__label-arrow:hover:before {color: black;}#sk-container-id-1 div.sk-estimator:hover label.sk-toggleable__label-arrow:before {color: black;}#sk-container-id-1 div.sk-toggleable__content {max-height: 0;max-width: 0;overflow: hidden;text-align: left;background-color: #f0f8ff;}#sk-container-id-1 div.sk-toggleable__content pre {margin: 0.2em;color: black;border-radius: 0.25em;background-color: #f0f8ff;}#sk-container-id-1 input.sk-toggleable__control:checked~div.sk-toggleable__content {max-height: 200px;max-width: 100%;overflow: auto;}#sk-container-id-1 input.sk-toggleable__control:checked~label.sk-toggleable__label-arrow:before {content: \"▾\";}#sk-container-id-1 div.sk-estimator input.sk-toggleable__control:checked~label.sk-toggleable__label {background-color: #d4ebff;}#sk-container-id-1 div.sk-label input.sk-toggleable__control:checked~label.sk-toggleable__label {background-color: #d4ebff;}#sk-container-id-1 input.sk-hidden--visually {border: 0;clip: rect(1px 1px 1px 1px);clip: rect(1px, 1px, 1px, 1px);height: 1px;margin: -1px;overflow: hidden;padding: 0;position: absolute;width: 1px;}#sk-container-id-1 div.sk-estimator {font-family: monospace;background-color: #f0f8ff;border: 1px dotted black;border-radius: 0.25em;box-sizing: border-box;margin-bottom: 0.5em;}#sk-container-id-1 div.sk-estimator:hover {background-color: #d4ebff;}#sk-container-id-1 div.sk-parallel-item::after {content: \"\";width: 100%;border-bottom: 1px solid gray;flex-grow: 1;}#sk-container-id-1 div.sk-label:hover label.sk-toggleable__label {background-color: #d4ebff;}#sk-container-id-1 div.sk-serial::before {content: \"\";position: absolute;border-left: 1px solid gray;box-sizing: border-box;top: 0;bottom: 0;left: 50%;z-index: 0;}#sk-container-id-1 div.sk-serial {display: flex;flex-direction: column;align-items: center;background-color: white;padding-right: 0.2em;padding-left: 0.2em;position: relative;}#sk-container-id-1 div.sk-item {position: relative;z-index: 1;}#sk-container-id-1 div.sk-parallel {display: flex;align-items: stretch;justify-content: center;background-color: white;position: relative;}#sk-container-id-1 div.sk-item::before, #sk-container-id-1 div.sk-parallel-item::before {content: \"\";position: absolute;border-left: 1px solid gray;box-sizing: border-box;top: 0;bottom: 0;left: 50%;z-index: -1;}#sk-container-id-1 div.sk-parallel-item {display: flex;flex-direction: column;z-index: 1;position: relative;background-color: white;}#sk-container-id-1 div.sk-parallel-item:first-child::after {align-self: flex-end;width: 50%;}#sk-container-id-1 div.sk-parallel-item:last-child::after {align-self: flex-start;width: 50%;}#sk-container-id-1 div.sk-parallel-item:only-child::after {width: 0;}#sk-container-id-1 div.sk-dashed-wrapped {border: 1px dashed gray;margin: 0 0.4em 0.5em 0.4em;box-sizing: border-box;padding-bottom: 0.4em;background-color: white;}#sk-container-id-1 div.sk-label label {font-family: monospace;font-weight: bold;display: inline-block;line-height: 1.2em;}#sk-container-id-1 div.sk-label-container {text-align: center;}#sk-container-id-1 div.sk-container {/* jupyter's `normalize.less` sets `[hidden] { display: none; }` but bootstrap.min.css set `[hidden] { display: none !important; }` so we also need the `!important` here to be able to override the default hidden behavior on the sphinx rendered scikit-learn.org. See: https://github.com/scikit-learn/scikit-learn/issues/21755 */display: inline-block !important;position: relative;}#sk-container-id-1 div.sk-text-repr-fallback {display: none;}</style><div id=\"sk-container-id-1\" class=\"sk-top-container\"><div class=\"sk-text-repr-fallback\"><pre>XGBRegressor(base_score=None, booster=None, callbacks=None,\n",
       "             colsample_bylevel=None, colsample_bynode=None,\n",
       "             colsample_bytree=None, device=None, early_stopping_rounds=None,\n",
       "             enable_categorical=False, eval_metric=None, feature_types=None,\n",
       "             gamma=None, grow_policy=None, importance_type=None,\n",
       "             interaction_constraints=None, learning_rate=None, max_bin=None,\n",
       "             max_cat_threshold=None, max_cat_to_onehot=None,\n",
       "             max_delta_step=None, max_depth=None, max_leaves=None,\n",
       "             min_child_weight=None, missing=nan, monotone_constraints=None,\n",
       "             multi_strategy=None, n_estimators=None, n_jobs=None,\n",
       "             num_parallel_tree=None, random_state=None, ...)</pre><b>In a Jupyter environment, please rerun this cell to show the HTML representation or trust the notebook. <br />On GitHub, the HTML representation is unable to render, please try loading this page with nbviewer.org.</b></div><div class=\"sk-container\" hidden><div class=\"sk-item\"><div class=\"sk-estimator sk-toggleable\"><input class=\"sk-toggleable__control sk-hidden--visually\" id=\"sk-estimator-id-1\" type=\"checkbox\" checked><label for=\"sk-estimator-id-1\" class=\"sk-toggleable__label sk-toggleable__label-arrow\">XGBRegressor</label><div class=\"sk-toggleable__content\"><pre>XGBRegressor(base_score=None, booster=None, callbacks=None,\n",
       "             colsample_bylevel=None, colsample_bynode=None,\n",
       "             colsample_bytree=None, device=None, early_stopping_rounds=None,\n",
       "             enable_categorical=False, eval_metric=None, feature_types=None,\n",
       "             gamma=None, grow_policy=None, importance_type=None,\n",
       "             interaction_constraints=None, learning_rate=None, max_bin=None,\n",
       "             max_cat_threshold=None, max_cat_to_onehot=None,\n",
       "             max_delta_step=None, max_depth=None, max_leaves=None,\n",
       "             min_child_weight=None, missing=nan, monotone_constraints=None,\n",
       "             multi_strategy=None, n_estimators=None, n_jobs=None,\n",
       "             num_parallel_tree=None, random_state=None, ...)</pre></div></div></div></div></div>"
      ],
      "text/plain": [
       "XGBRegressor(base_score=None, booster=None, callbacks=None,\n",
       "             colsample_bylevel=None, colsample_bynode=None,\n",
       "             colsample_bytree=None, device=None, early_stopping_rounds=None,\n",
       "             enable_categorical=False, eval_metric=None, feature_types=None,\n",
       "             gamma=None, grow_policy=None, importance_type=None,\n",
       "             interaction_constraints=None, learning_rate=None, max_bin=None,\n",
       "             max_cat_threshold=None, max_cat_to_onehot=None,\n",
       "             max_delta_step=None, max_depth=None, max_leaves=None,\n",
       "             min_child_weight=None, missing=nan, monotone_constraints=None,\n",
       "             multi_strategy=None, n_estimators=None, n_jobs=None,\n",
       "             num_parallel_tree=None, random_state=None, ...)"
      ]
     },
     "execution_count": 48,
     "metadata": {},
     "output_type": "execute_result"
    }
   ],
   "source": [
    "regressor.fit(X_train, Y_train)"
   ]
  },
  {
   "cell_type": "code",
   "execution_count": 49,
   "id": "0e3081bd-cd71-4094-936f-a04f5335ae6b",
   "metadata": {},
   "outputs": [],
   "source": [
    "training_data_prediction = regressor.predict(X_train)\n",
    "r2_train = metrics.r2_score(Y_train, training_data_prediction)"
   ]
  },
  {
   "cell_type": "code",
   "execution_count": 50,
   "id": "87c16660-a980-4b38-bc48-9f34d21ac37a",
   "metadata": {},
   "outputs": [
    {
     "name": "stdout",
     "output_type": "stream",
     "text": [
      "R Squared value =  0.9999999991682424\n"
     ]
    }
   ],
   "source": [
    "print('R Squared value = ', r2_train)"
   ]
  },
  {
   "cell_type": "code",
   "execution_count": 51,
   "id": "15770a22-b773-44db-8e66-120598c570bd",
   "metadata": {},
   "outputs": [],
   "source": [
    "test_data_prediction = regressor.predict(X_test)\n",
    "r2_test = metrics.r2_score(Y_test, test_data_prediction)"
   ]
  },
  {
   "cell_type": "code",
   "execution_count": 52,
   "id": "d4795874-05af-4082-93a6-28976ac296d1",
   "metadata": {},
   "outputs": [
    {
     "name": "stdout",
     "output_type": "stream",
     "text": [
      "R Squared value =  0.9999999992100987\n"
     ]
    }
   ],
   "source": [
    "print('R Squared value = ', r2_test)"
   ]
  },
  {
   "cell_type": "code",
   "execution_count": null,
   "id": "713e3a85-8829-4b6b-b908-f9db4062aef3",
   "metadata": {},
   "outputs": [],
   "source": []
  }
 ],
 "metadata": {
  "kernelspec": {
   "display_name": "Python 3 (ipykernel)",
   "language": "python",
   "name": "python3"
  },
  "language_info": {
   "codemirror_mode": {
    "name": "ipython",
    "version": 3
   },
   "file_extension": ".py",
   "mimetype": "text/x-python",
   "name": "python",
   "nbconvert_exporter": "python",
   "pygments_lexer": "ipython3",
   "version": "3.11.7"
  }
 },
 "nbformat": 4,
 "nbformat_minor": 5
}
